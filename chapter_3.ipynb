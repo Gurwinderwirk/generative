{
 "cells": [
  {
   "cell_type": "code",
   "execution_count": 1,
   "metadata": {},
   "outputs": [],
   "source": [
    "import os\n",
    "os.chdir(\"D:\\Generative_learning\\GDL_code\")"
   ]
  },
  {
   "cell_type": "code",
   "execution_count": 19,
   "metadata": {},
   "outputs": [],
   "source": [
    "from models.AE import Autoencoder\n",
    "import keras\n",
    "\n",
    "AE = Autoencoder(input_dim=(28,28,1),\n",
    "                encoder_conv_filters=[32,64,64,64],\n",
    "                encoder_conv_kernel_size=[3,3,3,3],\n",
    "                encoder_conv_strides=[1,2,2,1],\n",
    "                decoder_conv_t_filters=[64,64,32,1],\n",
    "                decoder_conv_t_kernel_size=[3,3,3,3],\n",
    "                decoder_conv_t_strides=[1,2,2,1],\n",
    "                z_dim=2)"
   ]
  },
  {
   "cell_type": "code",
   "execution_count": 9,
   "metadata": {},
   "outputs": [
    {
     "ename": "AttributeError",
     "evalue": "'Autoencoder' object has no attribute 'summary'",
     "output_type": "error",
     "traceback": [
      "\u001b[1;31m---------------------------------------------------------------------------\u001b[0m",
      "\u001b[1;31mAttributeError\u001b[0m                            Traceback (most recent call last)",
      "\u001b[1;32m<ipython-input-9-5abc364fc316>\u001b[0m in \u001b[0;36m<module>\u001b[1;34m\u001b[0m\n\u001b[1;32m----> 1\u001b[1;33m \u001b[0mAE\u001b[0m\u001b[1;33m.\u001b[0m\u001b[0msummary\u001b[0m\u001b[1;33m(\u001b[0m\u001b[1;33m)\u001b[0m\u001b[1;33m\u001b[0m\u001b[1;33m\u001b[0m\u001b[0m\n\u001b[0m",
      "\u001b[1;31mAttributeError\u001b[0m: 'Autoencoder' object has no attribute 'summary'"
     ]
    }
   ],
   "source": [
    "AE.summary()"
   ]
  },
  {
   "cell_type": "code",
   "execution_count": 26,
   "metadata": {},
   "outputs": [],
   "source": [
    "from keras.layers import Input,Reshape,Activation,Flatten,Dense, Conv2D,Conv2DTranspose, BatchNormalization, LeakyReLU, Dropout\n",
    "from keras.models import Model\n",
    "import numpy as np"
   ]
  },
  {
   "cell_type": "code",
   "execution_count": 31,
   "metadata": {},
   "outputs": [],
   "source": [
    "def build_encoder_decoder(input_shape, output_shape=None, batch_norm=False, dropout=False):\n",
    "    inputs= Input(shape=input_shape)\n",
    "    #encoder\n",
    "    x= Conv2D(filters=32, kernel_size=3, strides=1, padding='same')(inputs)\n",
    "    x=LeakyReLU()(x)\n",
    "    \n",
    "    x= Conv2D(filters=64, kernel_size=3, strides=2, padding='same')(x)\n",
    "    x= LeakyReLU()(x)\n",
    "    \n",
    "    x=Conv2D(filters=64,kernel_size=3,strides=2, padding='same')(x)\n",
    "    x=LeakyReLU()(x)\n",
    "    \n",
    "    x=Conv2D(filters=64, kernel_size=3, strides=1,padding='same')(x)\n",
    "    x= LeakyReLU()(x)\n",
    "    shape_before_flattening= keras.backend.int_shape(x)[1:]\n",
    "    x=Flatten()(x)\n",
    "    encoder_output=Dense(2,name='encoder_output')(x)\n",
    "    encoder=Model(inputs,encoder_output)\n",
    "    \n",
    "    #decoder\n",
    "    decoder_input = Input(shape=(2,), name='decoder_input')\n",
    "    \n",
    "    x= Dense(np.prod(shape_before_flattening))(decoder_input)\n",
    "    x=Reshape(shape_before_flattening)(x)\n",
    "    \n",
    "    x=Conv2DTranspose(64,(3,3),strides=1,padding='same')(x)\n",
    "    x= LeakyReLU()(x)\n",
    "    \n",
    "    x= Conv2DTranspose(64,(3,3),strides=2,padding='same')(x)\n",
    "    x=LeakyReLU()(x)\n",
    "    \n",
    "    x=Conv2DTranspose(32,(3,3), strides=2,padding='same')(x)\n",
    "    x=LeakyReLU()(x)\n",
    "    \n",
    "    x= Conv2DTranspose(1,(3,3), strides=1, padding='same')(x)\n",
    "    x=Activation('sigmoid')(x)\n",
    "    \n",
    "    decoder= Model(decoder_input,x)\n",
    "    model= Model(inputs = inputs, outputs= decoder(encoder_output))\n",
    "    \n",
    "    return encoder,decoder,model\n",
    "encoder, decoder,model = build_encoder_decoder(input_shape=(28,28,1))\n",
    "    \n",
    "\n"
   ]
  },
  {
   "cell_type": "code",
   "execution_count": 28,
   "metadata": {},
   "outputs": [
    {
     "name": "stdout",
     "output_type": "stream",
     "text": [
      "_________________________________________________________________\n",
      "Layer (type)                 Output Shape              Param #   \n",
      "=================================================================\n",
      "input_8 (InputLayer)         (None, 28, 28, 1)         0         \n",
      "_________________________________________________________________\n",
      "conv2d_35 (Conv2D)           (None, 28, 28, 32)        320       \n",
      "_________________________________________________________________\n",
      "leaky_re_lu_46 (LeakyReLU)   (None, 28, 28, 32)        0         \n",
      "_________________________________________________________________\n",
      "conv2d_36 (Conv2D)           (None, 14, 14, 64)        18496     \n",
      "_________________________________________________________________\n",
      "leaky_re_lu_47 (LeakyReLU)   (None, 14, 14, 64)        0         \n",
      "_________________________________________________________________\n",
      "conv2d_37 (Conv2D)           (None, 7, 7, 64)          36928     \n",
      "_________________________________________________________________\n",
      "leaky_re_lu_48 (LeakyReLU)   (None, 7, 7, 64)          0         \n",
      "_________________________________________________________________\n",
      "conv2d_38 (Conv2D)           (None, 7, 7, 64)          36928     \n",
      "_________________________________________________________________\n",
      "leaky_re_lu_49 (LeakyReLU)   (None, 7, 7, 64)          0         \n",
      "_________________________________________________________________\n",
      "flatten_7 (Flatten)          (None, 3136)              0         \n",
      "_________________________________________________________________\n",
      "encoder_output (Dense)       (None, 2)                 6274      \n",
      "=================================================================\n",
      "Total params: 98,946\n",
      "Trainable params: 98,946\n",
      "Non-trainable params: 0\n",
      "_________________________________________________________________\n"
     ]
    }
   ],
   "source": [
    "encoder.summary()"
   ]
  },
  {
   "cell_type": "code",
   "execution_count": 29,
   "metadata": {},
   "outputs": [
    {
     "name": "stdout",
     "output_type": "stream",
     "text": [
      "_________________________________________________________________\n",
      "Layer (type)                 Output Shape              Param #   \n",
      "=================================================================\n",
      "decoder_input (InputLayer)   (None, 2)                 0         \n",
      "_________________________________________________________________\n",
      "dense_4 (Dense)              (None, 3136)              9408      \n",
      "_________________________________________________________________\n",
      "reshape_4 (Reshape)          (None, 7, 7, 64)          0         \n",
      "_________________________________________________________________\n",
      "conv2d_transpose_1 (Conv2DTr (None, 7, 7, 64)          36928     \n",
      "_________________________________________________________________\n",
      "leaky_re_lu_50 (LeakyReLU)   (None, 7, 7, 64)          0         \n",
      "_________________________________________________________________\n",
      "conv2d_transpose_2 (Conv2DTr (None, 14, 14, 64)        36928     \n",
      "_________________________________________________________________\n",
      "leaky_re_lu_51 (LeakyReLU)   (None, 14, 14, 64)        0         \n",
      "_________________________________________________________________\n",
      "conv2d_transpose_3 (Conv2DTr (None, 28, 28, 32)        18464     \n",
      "_________________________________________________________________\n",
      "leaky_re_lu_52 (LeakyReLU)   (None, 28, 28, 32)        0         \n",
      "_________________________________________________________________\n",
      "conv2d_transpose_4 (Conv2DTr (None, 28, 28, 1)         289       \n",
      "_________________________________________________________________\n",
      "activation_5 (Activation)    (None, 28, 28, 1)         0         \n",
      "=================================================================\n",
      "Total params: 102,017\n",
      "Trainable params: 102,017\n",
      "Non-trainable params: 0\n",
      "_________________________________________________________________\n"
     ]
    }
   ],
   "source": [
    "decoder.summary()"
   ]
  },
  {
   "cell_type": "code",
   "execution_count": 33,
   "metadata": {},
   "outputs": [
    {
     "name": "stdout",
     "output_type": "stream",
     "text": [
      "_________________________________________________________________\n",
      "Layer (type)                 Output Shape              Param #   \n",
      "=================================================================\n",
      "input_10 (InputLayer)        (None, 28, 28, 1)         0         \n",
      "_________________________________________________________________\n",
      "conv2d_43 (Conv2D)           (None, 28, 28, 32)        320       \n",
      "_________________________________________________________________\n",
      "leaky_re_lu_60 (LeakyReLU)   (None, 28, 28, 32)        0         \n",
      "_________________________________________________________________\n",
      "conv2d_44 (Conv2D)           (None, 14, 14, 64)        18496     \n",
      "_________________________________________________________________\n",
      "leaky_re_lu_61 (LeakyReLU)   (None, 14, 14, 64)        0         \n",
      "_________________________________________________________________\n",
      "conv2d_45 (Conv2D)           (None, 7, 7, 64)          36928     \n",
      "_________________________________________________________________\n",
      "leaky_re_lu_62 (LeakyReLU)   (None, 7, 7, 64)          0         \n",
      "_________________________________________________________________\n",
      "conv2d_46 (Conv2D)           (None, 7, 7, 64)          36928     \n",
      "_________________________________________________________________\n",
      "leaky_re_lu_63 (LeakyReLU)   (None, 7, 7, 64)          0         \n",
      "_________________________________________________________________\n",
      "flatten_9 (Flatten)          (None, 3136)              0         \n",
      "_________________________________________________________________\n",
      "encoder_output (Dense)       (None, 2)                 6274      \n",
      "_________________________________________________________________\n",
      "model_19 (Model)             (None, 28, 28, 1)         102017    \n",
      "=================================================================\n",
      "Total params: 200,963\n",
      "Trainable params: 200,963\n",
      "Non-trainable params: 0\n",
      "_________________________________________________________________\n"
     ]
    }
   ],
   "source": [
    "model.summary()"
   ]
  },
  {
   "cell_type": "code",
   "execution_count": 36,
   "metadata": {},
   "outputs": [],
   "source": [
    "from keras import backend as K\n",
    "def r_loss(y_true,y_pred):\n",
    "    return K.mean(K.square(y_true-y_pred),axis=[1,2,3])\n",
    "model.compile(optimizer=keras.optimizers.Adam(lr=0.0001), loss=r_loss)"
   ]
  },
  {
   "cell_type": "code",
   "execution_count": 39,
   "metadata": {},
   "outputs": [],
   "source": [
    "from utils.loaders import load_mnist\n",
    "(x_train,y_train),(x_test,y_test)= load_mnist()"
   ]
  },
  {
   "cell_type": "code",
   "execution_count": null,
   "metadata": {},
   "outputs": [],
   "source": []
  },
  {
   "cell_type": "code",
   "execution_count": null,
   "metadata": {},
   "outputs": [],
   "source": [
    "from utils.callbacks import CustomCallback, step_decay_schedule"
   ]
  },
  {
   "cell_type": "code",
   "execution_count": 42,
   "metadata": {},
   "outputs": [
    {
     "name": "stderr",
     "output_type": "stream",
     "text": [
      "W0406 16:51:58.984502  5720 deprecation_wrapper.py:119] From C:\\Users\\Gurwinder\\anaconda3\\envs\\generative\\lib\\site-packages\\keras\\backend\\tensorflow_backend.py:986: The name tf.assign_add is deprecated. Please use tf.compat.v1.assign_add instead.\n",
      "\n",
      "W0406 16:51:59.180378  5720 deprecation_wrapper.py:119] From C:\\Users\\Gurwinder\\anaconda3\\envs\\generative\\lib\\site-packages\\keras\\backend\\tensorflow_backend.py:973: The name tf.assign is deprecated. Please use tf.compat.v1.assign instead.\n",
      "\n"
     ]
    },
    {
     "name": "stdout",
     "output_type": "stream",
     "text": [
      "Epoch 1/10\n",
      "60000/60000 [==============================] - 92s 2ms/step - loss: 0.0645\n",
      "Epoch 2/10\n",
      "60000/60000 [==============================] - 99s 2ms/step - loss: 0.0540\n",
      "Epoch 3/10\n",
      "60000/60000 [==============================] - 102s 2ms/step - loss: 0.0522\n",
      "Epoch 4/10\n",
      "60000/60000 [==============================] - 118s 2ms/step - loss: 0.0507\n",
      "Epoch 5/10\n",
      "60000/60000 [==============================] - 119s 2ms/step - loss: 0.0497\n",
      "Epoch 6/10\n",
      "60000/60000 [==============================] - 121s 2ms/step - loss: 0.0489\n",
      "Epoch 7/10\n",
      "60000/60000 [==============================] - 119s 2ms/step - loss: 0.0482\n",
      "Epoch 8/10\n",
      "60000/60000 [==============================] - 115s 2ms/step - loss: 0.0475\n",
      "Epoch 9/10\n",
      "60000/60000 [==============================] - 113s 2ms/step - loss: 0.0469\n",
      "Epoch 10/10\n",
      "60000/60000 [==============================] - 115s 2ms/step - loss: 0.0463\n"
     ]
    },
    {
     "data": {
      "text/plain": [
       "<keras.callbacks.History at 0x18cdf138390>"
      ]
     },
     "execution_count": 42,
     "metadata": {},
     "output_type": "execute_result"
    }
   ],
   "source": [
    "model.fit(x=x_train,y=x_train,batch_size=32,shuffle=True,epochs=10)"
   ]
  },
  {
   "cell_type": "code",
   "execution_count": 43,
   "metadata": {},
   "outputs": [],
   "source": [
    "decoded_images= model.predict(x_test)"
   ]
  },
  {
   "cell_type": "code",
   "execution_count": 56,
   "metadata": {},
   "outputs": [
    {
     "data": {
      "text/plain": [
       "array([4.4703484e-07], dtype=float32)"
      ]
     },
     "execution_count": 56,
     "metadata": {},
     "output_type": "execute_result"
    }
   ],
   "source": [
    "decoded_images[1,1,1]"
   ]
  },
  {
   "cell_type": "code",
   "execution_count": 50,
   "metadata": {},
   "outputs": [
    {
     "data": {
      "image/png": "[encoded data removed]",
      "text/plain": [
       "<Figure size 1440x288 with 20 Axes>"
      ]
     },
     "metadata": {
      "needs_background": "light"
     },
     "output_type": "display_data"
    }
   ],
   "source": [
    "import matplotlib.pyplot as plt\n",
    "\n",
    "plt.figure(figsize=(20,4))\n",
    "n=10\n",
    "for i in range(1,n+1):\n",
    "    ax=plt.subplot(2,n,i)\n",
    "    plt.imshow(x_test[i].reshape(28,28))\n",
    "    plt.gray()\n",
    "    ax.get_xaxis().set_visible(False)\n",
    "    ax.get_yaxis().set_visible(False)\n",
    "    \n",
    "    ax=plt.subplot(2,n,n+i)\n",
    "    plt.imshow(decoded_images[i].reshape(28,28))\n",
    "    plt.gray()\n",
    "    ax.get_xaxis().set_visible(False)\n",
    "    ax.get_yaxis().set_visible(False)\n",
    "plt.show()"
   ]
  },
  {
   "cell_type": "code",
   "execution_count": 58,
   "metadata": {},
   "outputs": [
    {
     "data": {
      "text/plain": [
       "'2.2.4'"
      ]
     },
     "execution_count": 58,
     "metadata": {},
     "output_type": "execute_result"
    }
   ],
   "source": [
    "keras.__version__"
   ]
  },
  {
   "cell_type": "code",
   "execution_count": 59,
   "metadata": {},
   "outputs": [],
   "source": [
    "class Autoencoder():\n",
    "    def __init__(self,input_dims,\n",
    "                encoder_conv_filters,\n",
    "                encoder_conv_kernel_size,\n",
    "                encoder_conv_strides,\n",
    "                decoder_conv_filters,\n",
    "                decoder_conv_kernel_size,\n",
    "                decoder_conv_strides,\n",
    "                z_dim,\n",
    "                use_batch_norm=False,\n",
    "                use_drop_norm=False):\n",
    "        self.name='variational_encoder',\n",
    "        self.encoder_conv_filters=encoder_conv_filters\n",
    "        self.encoder_conv_kernel_size= encoder_conv_kernel_size\n",
    "        self.encoder_conv_strides = encoder_conv_strides\n",
    "        self.decoder_conv_filters = decoder_conv_filters\n",
    "        self.decoder_conv_kernel_size = decoder_conv_kernel_size\n",
    "        self.decoder_conv_strides = decoder_conv_strides\n",
    "        self.z_dim = z_dim\n",
    "        \n",
    "        self.use_batch_norm = use_batch_norm\n",
    "        self.use_dropout = use_dropout\n",
    "        \n",
    "        self.n_layers_encoder = len(encoder_conv_filters)\n",
    "        self.n_layers_decoder = len(decoder_conv_filters)\n",
    "        \n",
    "        self._build()\n",
    "    def build(self):\n",
    "        encoder_input = Input(shape = self.input_dim, name='encoder_input')\n",
    "        x= encoder_input\n",
    "        for i in range(self.n_layers_encoder):\n",
    "            conv_layer = Conv2D(filters= self.encoder_conv_filters[i],\n",
    "                               kernel_size = self.encoder_conv_kernel_size[i],\n",
    "                                strides = self.encoder_conv_strides[i],\n",
    "                                padding='same',\n",
    "                                name = 'encoder_conv_'+str(i)\n",
    "                               )\n",
    "            x = conv_layer(x)\n",
    "            \n",
    "            x= LeakyReLU()(x)\n",
    "            if self.use_batch_norm:\n",
    "                x= BatchNormalization()(x)\n",
    "            if self.use_dropout:\n",
    "                x= Dropout()(x)\n",
    "            shape_before_flattening = K.int_shape(x)[1:]\n",
    "            \n",
    "            x= Flatten()(x)\n",
    "            \n",
    "            encoder_output = Dense(self.z_dim, name='encoder_output')(x)\n",
    "            self.encoder = Moder(encoder_input,encoder_output)\n",
    "            \n",
    "            decoder_input = Input(shape=(self.z_dim,), name='decoder_input')\n",
    "            \n",
    "            x = Dense(np.prod(shape_before_flattening))(decoder_input)\n",
    "            x = Reshape(shape_before_flattening)(x)\n",
    "            \n",
    "            for i in range(self.n_layers_decoder):\n",
    "                conv_t_layer = Conv2DTranspose(filters= self.decoder_conv_filters[i],\n",
    "                                              kernel_size = self.decoder_conv_kernel_size[i],\n",
    "                                               strides = self.decoder_conv_strides[i],\n",
    "                                               padding = 'same',\n",
    "                                               name = 'decoder_conv_'+str(i))\n",
    "                x= conv_t_layer(x)\n",
    "                \n",
    "                if i< self.n_layers_decoder-1:\n",
    "                    x= LeakyReLU()(x)\n",
    "                    \n",
    "                    if self.use_batch_norm:\n",
    "                        x= BatchNormalization()(x)\n",
    "                    \n",
    "                    if self.use_dropout:\n",
    "                        x= Dropout(rate = 0.25)(x)\n",
    "                else:\n",
    "                    x = Activation('sigmoid')(x)\n",
    "            \n",
    "            decoder_output = x\n",
    "            \n",
    "            self.decoder = Model(decoder_input, decoder_output)\n",
    "            \n",
    "            #full autoencoder\n",
    "            model_input = encoder_input\n",
    "            model_output = self.decoder(encoder_output)\n",
    "            \n",
    "            self.model = Model(model_input, model_output)\n",
    "        \n",
    "        def compile(self,learning_rate):\n",
    "            self.learning_rate = learning_rate\n",
    "            \n",
    "            optimizer = Adam(lr=learning_rate)\n",
    "            \n",
    "            def r_loss(y_true,y_pred):\n",
    "                return K.mean(K.square(y_true - y_pred),axis = [1,2,3])\n",
    "            self.model.compile(optimizer = optimizer , loss = r_loss)\n",
    "        \n",
    "                        "
   ]
  },
  {
   "cell_type": "code",
   "execution_count": 61,
   "metadata": {},
   "outputs": [],
   "source": [
    "class VariationalAutoencoder():\n",
    "    def __init__(self,input_dims,\n",
    "                encoder_conv_filters,\n",
    "                encoder_conv_kernel_size,\n",
    "                encoder_conv_strides,\n",
    "                decoder_conv_filters,\n",
    "                decoder_conv_kernel_size,\n",
    "                decoder_conv_strides,\n",
    "                z_dim,\n",
    "                use_batch_norm=False,\n",
    "                use_drop_norm=False):\n",
    "        self.name='variational_encoder',\n",
    "        self.encoder_conv_filters=encoder_conv_filters\n",
    "        self.encoder_conv_kernel_size= encoder_conv_kernel_size\n",
    "        self.encoder_conv_strides = encoder_conv_strides\n",
    "        self.decoder_conv_filters = decoder_conv_filters\n",
    "        self.decoder_conv_kernel_size = decoder_conv_kernel_size\n",
    "        self.decoder_conv_strides = decoder_conv_strides\n",
    "        self.z_dim = z_dim\n",
    "        \n",
    "        self.use_batch_norm = use_batch_norm\n",
    "        self.use_dropout = use_dropout\n",
    "        \n",
    "        self.n_layers_encoder = len(encoder_conv_filters)\n",
    "        self.n_layers_decoder = len(decoder_conv_filters)\n",
    "        \n",
    "        self._build()\n",
    "    def build(self):\n",
    "        encoder_input = Input(shape = self.input_dim, name='encoder_input')\n",
    "        x= encoder_input\n",
    "        for i in range(self.n_layers_encoder):\n",
    "            conv_layer = Conv2D(filters= self.encoder_conv_filters[i],\n",
    "                               kernel_size = self.encoder_conv_kernel_size[i],\n",
    "                                strides = self.encoder_conv_strides[i],\n",
    "                                padding='same',\n",
    "                                name = 'encoder_conv_'+str(i)\n",
    "                               )\n",
    "            x = conv_layer(x)\n",
    "            \n",
    "            \n",
    "            if self.use_batch_norm:\n",
    "                x= BatchNormalization()(x)\n",
    "            \n",
    "            x= LeakyReLU()(x)\n",
    "            \n",
    "            if self.use_dropout:\n",
    "                x= Dropout()(x)\n",
    "            shape_before_flattening = K.int_shape(x)[1:]\n",
    "            \n",
    "            x= Flatten()(x)\n",
    "            \n",
    "            self.mu = Dense(self.z_dim, name = 'mu')(x)\n",
    "            self.log_var = Dense(self.z_dim, name = 'log_var')(x)\n",
    "            \n",
    "            encoder_mu_log_var = Model(encoder_input, (self.mu, self.log_var))\n",
    "            \n",
    "            def sampling(args):\n",
    "                mu , log_var = args\n",
    "                epsilon = K.random_normal(shape = K.shape(mu), mean = 0., stddev=1.)\n",
    "                return mu+K.exp(log_var/2)*epsilon\n",
    "            \n",
    "            encoder_output = Lambda(sampling, name='encoder_output')([self.mu, self.log_var])\n",
    "            \n",
    "            encoder = Model(encoder_input, encoder_output)\n",
    "            \n",
    "            decoder_input = Input(shape=(self.z_dim,), name='decoder_input')\n",
    "            \n",
    "            x = Dense(np.prod(shape_before_flattening))(decoder_input)\n",
    "            x = Reshape(shape_before_flattening)(x)\n",
    "            \n",
    "            for i in range(self.n_layers_decoder):\n",
    "                conv_t_layer = Conv2DTranspose(filters= self.decoder_conv_filters[i],\n",
    "                                              kernel_size = self.decoder_conv_kernel_size[i],\n",
    "                                               strides = self.decoder_conv_strides[i],\n",
    "                                               padding = 'same',\n",
    "                                               name = 'decoder_conv_'+str(i))\n",
    "                x= conv_t_layer(x)\n",
    "                \n",
    "                if i< self.n_layers_decoder-1:\n",
    "                    x= LeakyReLU()(x)\n",
    "                    \n",
    "                    if self.use_batch_norm:\n",
    "                        x= BatchNormalization()(x)\n",
    "                    \n",
    "                    if self.use_dropout:\n",
    "                        x= Dropout(rate = 0.25)(x)\n",
    "                else:\n",
    "                    x = Activation('sigmoid')(x)\n",
    "            \n",
    "            decoder_output = x\n",
    "            \n",
    "            self.decoder = Model(decoder_input, decoder_output)\n",
    "            \n",
    "            #full autoencoder\n",
    "            model_input = encoder_input\n",
    "            model_output = self.decoder(encoder_output)\n",
    "            \n",
    "            self.model = Model(model_input, model_output)\n",
    "        \n",
    "        def compile(self,learning_rate, r_loss_factor):\n",
    "            self.learning_rate = learning_rate\n",
    "            \n",
    "            optimizer = Adam(lr=learning_rate)\n",
    "            \n",
    "            def r_loss(y_true,y_pred):\n",
    "                return K.mean(K.square(y_true - y_pred),axis = [1,2,3])\n",
    "            self.model.compile(optimizer = optimizer , loss = r_loss)\n",
    "            \n",
    "            def vae_r_loss(y_true, y_pred):\n",
    "                r_loss = K.mean(K.square(y_true - y_pred), axis =[1,2,3])\n",
    "                return r_loss_factore*r_loss\n",
    "            def vae_kl_loss(y_true, y_pred):\n",
    "                kl_loss = -0.5*K.sum(1+self.log_var - K.square(self.mu)-K.exp(self.log_var), axis = 1)\n",
    "                return kl_loss\n",
    "            def vae_loss(y_true, y_pred):\n",
    "                r_loss = vae_r_loss(y_true, y_pred)\n",
    "                kl_loss = vae_kl_loss(y_true, y_pred)\n",
    "                return r_loss + kl_loss\n",
    "        \n",
    "                        "
   ]
  },
  {
   "cell_type": "code",
   "execution_count": 2,
   "metadata": {},
   "outputs": [],
   "source": [
    "import os\n",
    "os.chdir('D:\\Generative_learning\\GDL_code')"
   ]
  },
  {
   "cell_type": "code",
   "execution_count": 3,
   "metadata": {},
   "outputs": [
    {
     "name": "stderr",
     "output_type": "stream",
     "text": [
      "Using TensorFlow backend.\n"
     ]
    }
   ],
   "source": [
    "import os\n",
    "\n",
    "from models.VAE import VariationalAutoencoder\n",
    "from utils.loaders import load_mnist"
   ]
  },
  {
   "cell_type": "code",
   "execution_count": 4,
   "metadata": {},
   "outputs": [],
   "source": [
    "SECTION = 'vae'\n",
    "\n",
    "RUN_ID = '0002'\n",
    "DATA_NAME = 'digits'\n",
    "RUN_FOLDER = 'run/{}/'.format(SECTION)\n",
    "RUN_FOLDER += '_'.join([RUN_ID, DATA_NAME])\n",
    "\n",
    "if not os.path.exists(RUN_FOLDER):\n",
    "    os.mkdir(RUN_FOLDER)\n",
    "    os.mkdir(os.path.join(RUN_FOLDER, 'viz'))\n",
    "    os.mkdir(os.path.join(RUN_FOLDER, 'images'))\n",
    "    os.mkdir(os.path.join(RUN_FOLDER, 'weights'))\n",
    "\n",
    "mode = 'build' \n",
    "    "
   ]
  },
  {
   "cell_type": "code",
   "execution_count": 5,
   "metadata": {},
   "outputs": [],
   "source": [
    "(x_train , y_train), (x_test, y_test) = load_mnist()"
   ]
  },
  {
   "cell_type": "code",
   "execution_count": 6,
   "metadata": {},
   "outputs": [
    {
     "name": "stderr",
     "output_type": "stream",
     "text": [
      "WARNING: Logging before flag parsing goes to stderr.\n",
      "W0409 14:46:23.502567 10844 deprecation_wrapper.py:119] From C:\\Users\\Gurwinder\\anaconda3\\envs\\generative\\lib\\site-packages\\keras\\backend\\tensorflow_backend.py:517: The name tf.placeholder is deprecated. Please use tf.compat.v1.placeholder instead.\n",
      "\n",
      "W0409 14:46:23.516565 10844 deprecation_wrapper.py:119] From C:\\Users\\Gurwinder\\anaconda3\\envs\\generative\\lib\\site-packages\\keras\\backend\\tensorflow_backend.py:4138: The name tf.random_uniform is deprecated. Please use tf.random.uniform instead.\n",
      "\n",
      "W0409 14:46:23.527141 10844 deprecation_wrapper.py:119] From C:\\Users\\Gurwinder\\anaconda3\\envs\\generative\\lib\\site-packages\\keras\\backend\\tensorflow_backend.py:74: The name tf.get_default_graph is deprecated. Please use tf.compat.v1.get_default_graph instead.\n",
      "\n",
      "W0409 14:46:23.569122 10844 deprecation_wrapper.py:119] From C:\\Users\\Gurwinder\\anaconda3\\envs\\generative\\lib\\site-packages\\keras\\backend\\tensorflow_backend.py:4115: The name tf.random_normal is deprecated. Please use tf.random.normal instead.\n",
      "\n"
     ]
    }
   ],
   "source": [
    "vae = VariationalAutoencoder(input_dim = (28,28,1),\n",
    "                            encoder_conv_filters = [32,64,64,64],\n",
    "                            encoder_conv_kernel_size = [3,3,3,3],\n",
    "                            encoder_conv_strides = [1,2,2,1],\n",
    "                            decoder_conv_t_filters = [64,64,32,1],\n",
    "                            decoder_conv_t_kernel_size = [3,3,3,3],\n",
    "                            decoder_conv_t_strides = [1,2,2,1],\n",
    "                            z_dim = 2)\n",
    "if mode == 'build':\n",
    "    vae.save(RUN_FOLDER)\n",
    "else:\n",
    "    vae.load_weights(os.path.join(RUN_FOLDER, 'weights/weights.h5'))"
   ]
  },
  {
   "cell_type": "code",
   "execution_count": 7,
   "metadata": {},
   "outputs": [
    {
     "name": "stdout",
     "output_type": "stream",
     "text": [
      "__________________________________________________________________________________________________\n",
      "Layer (type)                    Output Shape         Param #     Connected to                     \n",
      "==================================================================================================\n",
      "encoder_input (InputLayer)      (None, 28, 28, 1)    0                                            \n",
      "__________________________________________________________________________________________________\n",
      "encoder_conv_0 (Conv2D)         (None, 28, 28, 32)   320         encoder_input[0][0]              \n",
      "__________________________________________________________________________________________________\n",
      "leaky_re_lu_1 (LeakyReLU)       (None, 28, 28, 32)   0           encoder_conv_0[0][0]             \n",
      "__________________________________________________________________________________________________\n",
      "encoder_conv_1 (Conv2D)         (None, 14, 14, 64)   18496       leaky_re_lu_1[0][0]              \n",
      "__________________________________________________________________________________________________\n",
      "leaky_re_lu_2 (LeakyReLU)       (None, 14, 14, 64)   0           encoder_conv_1[0][0]             \n",
      "__________________________________________________________________________________________________\n",
      "encoder_conv_2 (Conv2D)         (None, 7, 7, 64)     36928       leaky_re_lu_2[0][0]              \n",
      "__________________________________________________________________________________________________\n",
      "leaky_re_lu_3 (LeakyReLU)       (None, 7, 7, 64)     0           encoder_conv_2[0][0]             \n",
      "__________________________________________________________________________________________________\n",
      "encoder_conv_3 (Conv2D)         (None, 7, 7, 64)     36928       leaky_re_lu_3[0][0]              \n",
      "__________________________________________________________________________________________________\n",
      "leaky_re_lu_4 (LeakyReLU)       (None, 7, 7, 64)     0           encoder_conv_3[0][0]             \n",
      "__________________________________________________________________________________________________\n",
      "flatten_1 (Flatten)             (None, 3136)         0           leaky_re_lu_4[0][0]              \n",
      "__________________________________________________________________________________________________\n",
      "mu (Dense)                      (None, 2)            6274        flatten_1[0][0]                  \n",
      "__________________________________________________________________________________________________\n",
      "log_var (Dense)                 (None, 2)            6274        flatten_1[0][0]                  \n",
      "__________________________________________________________________________________________________\n",
      "encoder_output (Lambda)         (None, 2)            0           mu[0][0]                         \n",
      "                                                                 log_var[0][0]                    \n",
      "==================================================================================================\n",
      "Total params: 105,220\n",
      "Trainable params: 105,220\n",
      "Non-trainable params: 0\n",
      "__________________________________________________________________________________________________\n"
     ]
    }
   ],
   "source": [
    "vae.encoder.summary()"
   ]
  },
  {
   "cell_type": "code",
   "execution_count": 8,
   "metadata": {},
   "outputs": [
    {
     "name": "stdout",
     "output_type": "stream",
     "text": [
      "_________________________________________________________________\n",
      "Layer (type)                 Output Shape              Param #   \n",
      "=================================================================\n",
      "decoder_input (InputLayer)   (None, 2)                 0         \n",
      "_________________________________________________________________\n",
      "dense_1 (Dense)              (None, 3136)              9408      \n",
      "_________________________________________________________________\n",
      "reshape_1 (Reshape)          (None, 7, 7, 64)          0         \n",
      "_________________________________________________________________\n",
      "decoder_conv_t_0 (Conv2DTran (None, 7, 7, 64)          36928     \n",
      "_________________________________________________________________\n",
      "leaky_re_lu_5 (LeakyReLU)    (None, 7, 7, 64)          0         \n",
      "_________________________________________________________________\n",
      "decoder_conv_t_1 (Conv2DTran (None, 14, 14, 64)        36928     \n",
      "_________________________________________________________________\n",
      "leaky_re_lu_6 (LeakyReLU)    (None, 14, 14, 64)        0         \n",
      "_________________________________________________________________\n",
      "decoder_conv_t_2 (Conv2DTran (None, 28, 28, 32)        18464     \n",
      "_________________________________________________________________\n",
      "leaky_re_lu_7 (LeakyReLU)    (None, 28, 28, 32)        0         \n",
      "_________________________________________________________________\n",
      "decoder_conv_t_3 (Conv2DTran (None, 28, 28, 1)         289       \n",
      "_________________________________________________________________\n",
      "activation_1 (Activation)    (None, 28, 28, 1)         0         \n",
      "=================================================================\n",
      "Total params: 102,017\n",
      "Trainable params: 102,017\n",
      "Non-trainable params: 0\n",
      "_________________________________________________________________\n"
     ]
    }
   ],
   "source": [
    "vae.decoder.summary()"
   ]
  },
  {
   "cell_type": "code",
   "execution_count": 9,
   "metadata": {},
   "outputs": [],
   "source": [
    "LEARNING_RATE = 0.0005\n",
    "R_LOSS_FACTOR = 1000"
   ]
  },
  {
   "cell_type": "code",
   "execution_count": 10,
   "metadata": {},
   "outputs": [
    {
     "name": "stderr",
     "output_type": "stream",
     "text": [
      "W0409 14:48:05.357634 10844 deprecation_wrapper.py:119] From C:\\Users\\Gurwinder\\anaconda3\\envs\\generative\\lib\\site-packages\\keras\\optimizers.py:790: The name tf.train.Optimizer is deprecated. Please use tf.compat.v1.train.Optimizer instead.\n",
      "\n"
     ]
    }
   ],
   "source": [
    "vae.compile(LEARNING_RATE, R_LOSS_FACTOR)"
   ]
  },
  {
   "cell_type": "code",
   "execution_count": 11,
   "metadata": {},
   "outputs": [],
   "source": [
    "BATCH_SIZE = 32\n",
    "EPOCHS = 200\n",
    "PRINT_EVERY_N_BATCHES = 100\n",
    "INITIAL_EPOCH = 0"
   ]
  },
  {
   "cell_type": "code",
   "execution_count": 12,
   "metadata": {},
   "outputs": [
    {
     "name": "stderr",
     "output_type": "stream",
     "text": [
      "W0409 14:48:23.127471 10844 deprecation_wrapper.py:119] From C:\\Users\\Gurwinder\\anaconda3\\envs\\generative\\lib\\site-packages\\keras\\backend\\tensorflow_backend.py:986: The name tf.assign_add is deprecated. Please use tf.compat.v1.assign_add instead.\n",
      "\n"
     ]
    },
    {
     "name": "stdout",
     "output_type": "stream",
     "text": [
      "Epoch 1/200\n",
      "18880/60000 [========>.....................] - ETA: 1:00 - loss: 66.5740 - vae_r_loss: 63.6243 - vae_kl_loss: 2.9497"
     ]
    },
    {
     "ename": "KeyboardInterrupt",
     "evalue": "",
     "output_type": "error",
     "traceback": [
      "\u001b[1;31m---------------------------------------------------------------------------\u001b[0m",
      "\u001b[1;31mKeyboardInterrupt\u001b[0m                         Traceback (most recent call last)",
      "\u001b[1;32m<ipython-input-12-a0cdb3ff19b5>\u001b[0m in \u001b[0;36m<module>\u001b[1;34m\u001b[0m\n\u001b[0;32m      5\u001b[0m     \u001b[1;33m,\u001b[0m \u001b[0mrun_folder\u001b[0m \u001b[1;33m=\u001b[0m \u001b[0mRUN_FOLDER\u001b[0m\u001b[1;33m\u001b[0m\u001b[1;33m\u001b[0m\u001b[0m\n\u001b[0;32m      6\u001b[0m     \u001b[1;33m,\u001b[0m \u001b[0mprint_every_n_batches\u001b[0m \u001b[1;33m=\u001b[0m \u001b[0mPRINT_EVERY_N_BATCHES\u001b[0m\u001b[1;33m\u001b[0m\u001b[1;33m\u001b[0m\u001b[0m\n\u001b[1;32m----> 7\u001b[1;33m     \u001b[1;33m,\u001b[0m \u001b[0minitial_epoch\u001b[0m \u001b[1;33m=\u001b[0m \u001b[0mINITIAL_EPOCH\u001b[0m\u001b[1;33m\u001b[0m\u001b[1;33m\u001b[0m\u001b[0m\n\u001b[0m\u001b[0;32m      8\u001b[0m )\n",
      "\u001b[1;32mD:\\Generative_learning\\GDL_code\\models\\VAE.py\u001b[0m in \u001b[0;36mtrain\u001b[1;34m(self, x_train, batch_size, epochs, run_folder, print_every_n_batches, initial_epoch, lr_decay)\u001b[0m\n\u001b[0;32m    200\u001b[0m             \u001b[1;33m,\u001b[0m \u001b[0mepochs\u001b[0m \u001b[1;33m=\u001b[0m \u001b[0mepochs\u001b[0m\u001b[1;33m\u001b[0m\u001b[1;33m\u001b[0m\u001b[0m\n\u001b[0;32m    201\u001b[0m             \u001b[1;33m,\u001b[0m \u001b[0minitial_epoch\u001b[0m \u001b[1;33m=\u001b[0m \u001b[0minitial_epoch\u001b[0m\u001b[1;33m\u001b[0m\u001b[1;33m\u001b[0m\u001b[0m\n\u001b[1;32m--> 202\u001b[1;33m             \u001b[1;33m,\u001b[0m \u001b[0mcallbacks\u001b[0m \u001b[1;33m=\u001b[0m \u001b[0mcallbacks_list\u001b[0m\u001b[1;33m\u001b[0m\u001b[1;33m\u001b[0m\u001b[0m\n\u001b[0m\u001b[0;32m    203\u001b[0m         )\n\u001b[0;32m    204\u001b[0m \u001b[1;33m\u001b[0m\u001b[0m\n",
      "\u001b[1;32m~\\anaconda3\\envs\\generative\\lib\\site-packages\\keras\\engine\\training.py\u001b[0m in \u001b[0;36mfit\u001b[1;34m(self, x, y, batch_size, epochs, verbose, callbacks, validation_split, validation_data, shuffle, class_weight, sample_weight, initial_epoch, steps_per_epoch, validation_steps, **kwargs)\u001b[0m\n\u001b[0;32m   1037\u001b[0m                                         \u001b[0minitial_epoch\u001b[0m\u001b[1;33m=\u001b[0m\u001b[0minitial_epoch\u001b[0m\u001b[1;33m,\u001b[0m\u001b[1;33m\u001b[0m\u001b[1;33m\u001b[0m\u001b[0m\n\u001b[0;32m   1038\u001b[0m                                         \u001b[0msteps_per_epoch\u001b[0m\u001b[1;33m=\u001b[0m\u001b[0msteps_per_epoch\u001b[0m\u001b[1;33m,\u001b[0m\u001b[1;33m\u001b[0m\u001b[1;33m\u001b[0m\u001b[0m\n\u001b[1;32m-> 1039\u001b[1;33m                                         validation_steps=validation_steps)\n\u001b[0m\u001b[0;32m   1040\u001b[0m \u001b[1;33m\u001b[0m\u001b[0m\n\u001b[0;32m   1041\u001b[0m     def evaluate(self, x=None, y=None,\n",
      "\u001b[1;32m~\\anaconda3\\envs\\generative\\lib\\site-packages\\keras\\engine\\training_arrays.py\u001b[0m in \u001b[0;36mfit_loop\u001b[1;34m(model, f, ins, out_labels, batch_size, epochs, verbose, callbacks, val_f, val_ins, shuffle, callback_metrics, initial_epoch, steps_per_epoch, validation_steps)\u001b[0m\n\u001b[0;32m    197\u001b[0m                     \u001b[0mins_batch\u001b[0m\u001b[1;33m[\u001b[0m\u001b[0mi\u001b[0m\u001b[1;33m]\u001b[0m \u001b[1;33m=\u001b[0m \u001b[0mins_batch\u001b[0m\u001b[1;33m[\u001b[0m\u001b[0mi\u001b[0m\u001b[1;33m]\u001b[0m\u001b[1;33m.\u001b[0m\u001b[0mtoarray\u001b[0m\u001b[1;33m(\u001b[0m\u001b[1;33m)\u001b[0m\u001b[1;33m\u001b[0m\u001b[1;33m\u001b[0m\u001b[0m\n\u001b[0;32m    198\u001b[0m \u001b[1;33m\u001b[0m\u001b[0m\n\u001b[1;32m--> 199\u001b[1;33m                 \u001b[0mouts\u001b[0m \u001b[1;33m=\u001b[0m \u001b[0mf\u001b[0m\u001b[1;33m(\u001b[0m\u001b[0mins_batch\u001b[0m\u001b[1;33m)\u001b[0m\u001b[1;33m\u001b[0m\u001b[1;33m\u001b[0m\u001b[0m\n\u001b[0m\u001b[0;32m    200\u001b[0m                 \u001b[0mouts\u001b[0m \u001b[1;33m=\u001b[0m \u001b[0mto_list\u001b[0m\u001b[1;33m(\u001b[0m\u001b[0mouts\u001b[0m\u001b[1;33m)\u001b[0m\u001b[1;33m\u001b[0m\u001b[1;33m\u001b[0m\u001b[0m\n\u001b[0;32m    201\u001b[0m                 \u001b[1;32mfor\u001b[0m \u001b[0ml\u001b[0m\u001b[1;33m,\u001b[0m \u001b[0mo\u001b[0m \u001b[1;32min\u001b[0m \u001b[0mzip\u001b[0m\u001b[1;33m(\u001b[0m\u001b[0mout_labels\u001b[0m\u001b[1;33m,\u001b[0m \u001b[0mouts\u001b[0m\u001b[1;33m)\u001b[0m\u001b[1;33m:\u001b[0m\u001b[1;33m\u001b[0m\u001b[1;33m\u001b[0m\u001b[0m\n",
      "\u001b[1;32m~\\anaconda3\\envs\\generative\\lib\\site-packages\\keras\\backend\\tensorflow_backend.py\u001b[0m in \u001b[0;36m__call__\u001b[1;34m(self, inputs)\u001b[0m\n\u001b[0;32m   2713\u001b[0m                 \u001b[1;32mreturn\u001b[0m \u001b[0mself\u001b[0m\u001b[1;33m.\u001b[0m\u001b[0m_legacy_call\u001b[0m\u001b[1;33m(\u001b[0m\u001b[0minputs\u001b[0m\u001b[1;33m)\u001b[0m\u001b[1;33m\u001b[0m\u001b[1;33m\u001b[0m\u001b[0m\n\u001b[0;32m   2714\u001b[0m \u001b[1;33m\u001b[0m\u001b[0m\n\u001b[1;32m-> 2715\u001b[1;33m             \u001b[1;32mreturn\u001b[0m \u001b[0mself\u001b[0m\u001b[1;33m.\u001b[0m\u001b[0m_call\u001b[0m\u001b[1;33m(\u001b[0m\u001b[0minputs\u001b[0m\u001b[1;33m)\u001b[0m\u001b[1;33m\u001b[0m\u001b[1;33m\u001b[0m\u001b[0m\n\u001b[0m\u001b[0;32m   2716\u001b[0m         \u001b[1;32melse\u001b[0m\u001b[1;33m:\u001b[0m\u001b[1;33m\u001b[0m\u001b[1;33m\u001b[0m\u001b[0m\n\u001b[0;32m   2717\u001b[0m             \u001b[1;32mif\u001b[0m \u001b[0mpy_any\u001b[0m\u001b[1;33m(\u001b[0m\u001b[0mis_tensor\u001b[0m\u001b[1;33m(\u001b[0m\u001b[0mx\u001b[0m\u001b[1;33m)\u001b[0m \u001b[1;32mfor\u001b[0m \u001b[0mx\u001b[0m \u001b[1;32min\u001b[0m \u001b[0minputs\u001b[0m\u001b[1;33m)\u001b[0m\u001b[1;33m:\u001b[0m\u001b[1;33m\u001b[0m\u001b[1;33m\u001b[0m\u001b[0m\n",
      "\u001b[1;32m~\\anaconda3\\envs\\generative\\lib\\site-packages\\keras\\backend\\tensorflow_backend.py\u001b[0m in \u001b[0;36m_call\u001b[1;34m(self, inputs)\u001b[0m\n\u001b[0;32m   2673\u001b[0m             \u001b[0mfetched\u001b[0m \u001b[1;33m=\u001b[0m \u001b[0mself\u001b[0m\u001b[1;33m.\u001b[0m\u001b[0m_callable_fn\u001b[0m\u001b[1;33m(\u001b[0m\u001b[1;33m*\u001b[0m\u001b[0marray_vals\u001b[0m\u001b[1;33m,\u001b[0m \u001b[0mrun_metadata\u001b[0m\u001b[1;33m=\u001b[0m\u001b[0mself\u001b[0m\u001b[1;33m.\u001b[0m\u001b[0mrun_metadata\u001b[0m\u001b[1;33m)\u001b[0m\u001b[1;33m\u001b[0m\u001b[1;33m\u001b[0m\u001b[0m\n\u001b[0;32m   2674\u001b[0m         \u001b[1;32melse\u001b[0m\u001b[1;33m:\u001b[0m\u001b[1;33m\u001b[0m\u001b[1;33m\u001b[0m\u001b[0m\n\u001b[1;32m-> 2675\u001b[1;33m             \u001b[0mfetched\u001b[0m \u001b[1;33m=\u001b[0m \u001b[0mself\u001b[0m\u001b[1;33m.\u001b[0m\u001b[0m_callable_fn\u001b[0m\u001b[1;33m(\u001b[0m\u001b[1;33m*\u001b[0m\u001b[0marray_vals\u001b[0m\u001b[1;33m)\u001b[0m\u001b[1;33m\u001b[0m\u001b[1;33m\u001b[0m\u001b[0m\n\u001b[0m\u001b[0;32m   2676\u001b[0m         \u001b[1;32mreturn\u001b[0m \u001b[0mfetched\u001b[0m\u001b[1;33m[\u001b[0m\u001b[1;33m:\u001b[0m\u001b[0mlen\u001b[0m\u001b[1;33m(\u001b[0m\u001b[0mself\u001b[0m\u001b[1;33m.\u001b[0m\u001b[0moutputs\u001b[0m\u001b[1;33m)\u001b[0m\u001b[1;33m]\u001b[0m\u001b[1;33m\u001b[0m\u001b[1;33m\u001b[0m\u001b[0m\n\u001b[0;32m   2677\u001b[0m \u001b[1;33m\u001b[0m\u001b[0m\n",
      "\u001b[1;32m~\\anaconda3\\envs\\generative\\lib\\site-packages\\tensorflow\\python\\client\\session.py\u001b[0m in \u001b[0;36m__call__\u001b[1;34m(self, *args, **kwargs)\u001b[0m\n\u001b[0;32m   1456\u001b[0m         ret = tf_session.TF_SessionRunCallable(self._session._session,\n\u001b[0;32m   1457\u001b[0m                                                \u001b[0mself\u001b[0m\u001b[1;33m.\u001b[0m\u001b[0m_handle\u001b[0m\u001b[1;33m,\u001b[0m \u001b[0margs\u001b[0m\u001b[1;33m,\u001b[0m\u001b[1;33m\u001b[0m\u001b[1;33m\u001b[0m\u001b[0m\n\u001b[1;32m-> 1458\u001b[1;33m                                                run_metadata_ptr)\n\u001b[0m\u001b[0;32m   1459\u001b[0m         \u001b[1;32mif\u001b[0m \u001b[0mrun_metadata\u001b[0m\u001b[1;33m:\u001b[0m\u001b[1;33m\u001b[0m\u001b[1;33m\u001b[0m\u001b[0m\n\u001b[0;32m   1460\u001b[0m           \u001b[0mproto_data\u001b[0m \u001b[1;33m=\u001b[0m \u001b[0mtf_session\u001b[0m\u001b[1;33m.\u001b[0m\u001b[0mTF_GetBuffer\u001b[0m\u001b[1;33m(\u001b[0m\u001b[0mrun_metadata_ptr\u001b[0m\u001b[1;33m)\u001b[0m\u001b[1;33m\u001b[0m\u001b[1;33m\u001b[0m\u001b[0m\n",
      "\u001b[1;31mKeyboardInterrupt\u001b[0m: "
     ]
    }
   ],
   "source": [
    "vae.train(     \n",
    "    x_train\n",
    "    , batch_size = BATCH_SIZE\n",
    "    , epochs = EPOCHS\n",
    "    , run_folder = RUN_FOLDER\n",
    "    , print_every_n_batches = PRINT_EVERY_N_BATCHES\n",
    "    , initial_epoch = INITIAL_EPOCH\n",
    ")"
   ]
  },
  {
   "cell_type": "code",
   "execution_count": null,
   "metadata": {},
   "outputs": [],
   "source": []
  }
 ],
 "metadata": {
  "kernelspec": {
   "display_name": "Python 3",
   "language": "python",
   "name": "python3"
  },
  "language_info": {
   "codemirror_mode": {
    "name": "ipython",
    "version": 3
   },
   "file_extension": ".py",
   "mimetype": "text/x-python",
   "name": "python",
   "nbconvert_exporter": "python",
   "pygments_lexer": "ipython3",
   "version": "3.6.13"
  }
 },
 "nbformat": 4,
 "nbformat_minor": 2
}
